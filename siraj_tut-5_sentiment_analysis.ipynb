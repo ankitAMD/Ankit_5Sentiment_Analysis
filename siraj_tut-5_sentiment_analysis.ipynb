{
 "cells": [
  {
   "cell_type": "code",
   "execution_count": null,
   "metadata": {
    "scrolled": true
   },
   "outputs": [
    {
     "name": "stdout",
     "output_type": "stream",
     "text": [
      "Training Step: 1957  | total loss: \u001b[1m\u001b[32m0.38606\u001b[0m\u001b[0m | time: 96.912s\n",
      "\u001b[2K\r",
      "| Adam | epoch: 003 | loss: 0.38606 - acc: 0.8597 -- iter: 13710/22500\n"
     ]
    }
   ],
   "source": [
    "import tflearn\n",
    "from tflearn.data_utils import to_categorical, pad_sequences\n",
    "from tflearn.datasets import imdb\n",
    "\n",
    "#IMDB dataset Loading\n",
    "train, test, _ = imdb.load_data(path=r'C:\\Users\\Ankit Gupta\\ankit_siraj intro to deep learning\\5.sentiment_analysis\\How_to_do_Sentiment_Analysis-master\\imdb.pkl', n_words = 10000,\n",
    "                               valid_portion=0.1)\n",
    "trainX, trainY = train\n",
    "testX, testY = test\n",
    "\n",
    "#Data preprocessing\n",
    "#Sequence padding\n",
    "trainX = pad_sequences(trainX, maxlen=100, value=0.)\n",
    "testX  = pad_sequences(testX,  maxlen=100, value=0.)\n",
    "#converting labels to binary vectors\n",
    "trainY = to_categorical(trainY, nb_classes=2)\n",
    "testY  = to_categorical(testY , nb_classes=2)\n",
    "\n",
    "#Network Building\n",
    "net = tflearn.input_data([None,100])\n",
    "net = tflearn.embedding(net,input_dim =10000, output_dim=128)\n",
    "net = tflearn.lstm(net,128,dropout=0.8)\n",
    "net = tflearn.fully_connected(net,2, activation='softmax')\n",
    "net = tflearn.regression(net, optimizer='adam',learning_rate=0.0001,\n",
    "                             loss='categorical_crossentropy')\n",
    "\n",
    "\n",
    "#Training\n",
    "\n",
    "model = tflearn.DNN(net, tensorboard_verbose=0)\n",
    "model.fit(trainX, trainY, validation_set=(testX, testY),show_metric=True,\n",
    "          batch_size= 30)\n",
    "\n",
    "\n",
    "\n",
    "\n"
   ]
  },
  {
   "cell_type": "code",
   "execution_count": null,
   "metadata": {
    "collapsed": true
   },
   "outputs": [],
   "source": []
  },
  {
   "cell_type": "code",
   "execution_count": null,
   "metadata": {
    "collapsed": true
   },
   "outputs": [],
   "source": []
  },
  {
   "cell_type": "code",
   "execution_count": null,
   "metadata": {
    "collapsed": true
   },
   "outputs": [],
   "source": []
  }
 ],
 "metadata": {
  "kernelspec": {
   "display_name": "Python 3",
   "language": "python",
   "name": "python3"
  },
  "language_info": {
   "codemirror_mode": {
    "name": "ipython",
    "version": 3
   },
   "file_extension": ".py",
   "mimetype": "text/x-python",
   "name": "python",
   "nbconvert_exporter": "python",
   "pygments_lexer": "ipython3",
   "version": "3.6.1"
  }
 },
 "nbformat": 4,
 "nbformat_minor": 2
}
